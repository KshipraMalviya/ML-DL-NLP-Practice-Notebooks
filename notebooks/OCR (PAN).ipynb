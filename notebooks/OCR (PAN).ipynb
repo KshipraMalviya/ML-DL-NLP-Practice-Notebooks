{
 "cells": [
  {
   "cell_type": "code",
   "execution_count": 1,
   "id": "24d5be6d",
   "metadata": {},
   "outputs": [
    {
     "name": "stdout",
     "output_type": "stream",
     "text": [
      "Requirement already satisfied: pytesseract in c:\\users\\dell\\appdata\\local\\programs\\python\\python311\\lib\\site-packages (0.3.10)\n",
      "Requirement already satisfied: Pillow>=8.0.0 in c:\\users\\dell\\appdata\\local\\programs\\python\\python311\\lib\\site-packages (from pytesseract) (10.0.1)\n",
      "Requirement already satisfied: packaging>=21.3 in c:\\users\\dell\\appdata\\local\\programs\\python\\python311\\lib\\site-packages (from pytesseract) (23.1)\n"
     ]
    }
   ],
   "source": [
    "!pip install pytesseract"
   ]
  },
  {
   "cell_type": "code",
   "execution_count": 2,
   "id": "e2bbc09c-dc09-49ae-890d-38ab816a9b10",
   "metadata": {},
   "outputs": [],
   "source": [
    "import pandas as pd"
   ]
  },
  {
   "cell_type": "code",
   "execution_count": 3,
   "id": "e397be6c",
   "metadata": {},
   "outputs": [],
   "source": [
    "surname = pd.read_csv(\"surnames.csv\")[\"name\"].to_list()"
   ]
  },
  {
   "cell_type": "code",
   "execution_count": 4,
   "id": "142b4c4f",
   "metadata": {},
   "outputs": [],
   "source": [
    "first_name = pd.read_csv(\"Indian_Names.csv\")[\"Name\"].to_list()\n"
   ]
  },
  {
   "cell_type": "code",
   "execution_count": 73,
   "id": "3458fe91",
   "metadata": {},
   "outputs": [
    {
     "name": "stdout",
     "output_type": "stream",
     "text": [
      "{'level': [1, 2, 3, 4, 5, 5, 5, 5, 5, 5, 2, 3, 4, 5, 5, 5, 5, 4, 5, 2, 3, 4, 5, 5, 2, 3, 4, 5], 'page_num': [1, 1, 1, 1, 1, 1, 1, 1, 1, 1, 1, 1, 1, 1, 1, 1, 1, 1, 1, 1, 1, 1, 1, 1, 1, 1, 1, 1], 'block_num': [0, 1, 1, 1, 1, 1, 1, 1, 1, 1, 2, 2, 2, 2, 2, 2, 2, 2, 2, 3, 3, 3, 3, 3, 4, 4, 4, 4], 'par_num': [0, 0, 1, 1, 1, 1, 1, 1, 1, 1, 0, 1, 1, 1, 1, 1, 1, 1, 1, 0, 1, 1, 1, 1, 0, 1, 1, 1], 'line_num': [0, 0, 0, 1, 1, 1, 1, 1, 1, 1, 0, 0, 1, 1, 1, 1, 1, 2, 2, 0, 0, 1, 1, 1, 0, 0, 1, 1], 'word_num': [0, 0, 0, 0, 1, 2, 3, 4, 5, 6, 0, 0, 0, 1, 2, 3, 4, 0, 1, 0, 0, 0, 1, 2, 0, 0, 0, 1], 'left': [0, 44, 44, 44, 44, 105, 133, 311, 368, 395, 61, 61, 61, 61, 111, 140, 328, 163, 163, 50, 50, 50, 46, 78, 0, 0, 0, 0], 'top': [0, 61, 61, 61, 61, 61, 61, 61, 65, 65, 84, 84, 84, 91, 91, 84, 104, 130, 130, 175, 175, 175, 165, 175, 1, 1, 1, 1], 'width': [500, 403, 403, 403, 55, 22, 83, 52, 23, 52, 277, 277, 277, 61, 11, 179, 10, 104, 104, 56, 56, 56, 24, 28, 500, 500, 500, 500], 'height': [317, 33, 33, 33, 28, 28, 28, 28, 29, 14, 79, 79, 79, 72, 51, 34, 6, 13, 13, 9, 9, 9, 28, 9, 316, 316, 316, 316], 'conf': [-1, -1, -1, -1, 29, 84, 87, 93, 65, 95, -1, -1, -1, 73, 74, 0, 59, -1, 73, -1, -1, -1, 13, 56, -1, -1, -1, 95], 'text': ['', '', '', '', 'sINCOME', 'TAX', 'DEPARTMENT', 'GOVT.', 'OF', 'INDIA', '', '', '', '91', ']', 'ett', 'ES', '', 'CNTPN16290', '', '', '', 'ara', 'Name', '', '', '', '']}\n",
      "sINCOME\n",
      "surname TAX\n",
      "DEPARTMENT\n",
      "GOVT.\n",
      "surname INDIA\n",
      "CNTPN16290\n",
      "ara\n",
      "first_name Name\n",
      "Name\n"
     ]
    }
   ],
   "source": [
    "from PIL import Image\n",
    "import pytesseract\n",
    "from pytesseract import Output\n",
    "\n",
    "import cv2\n",
    "import numpy as np\n",
    "from matplotlib import pyplot as plt\n",
    "\n",
    "gray_image = cv2.imread('test_image2.jpg',0)\n",
    "\n",
    "# thresh1 = cv2.adaptiveThreshold(gray_image, 255, cv2.ADAPTIVE_THRESH_MEAN_C, cv2.THRESH_BINARY, 33, 1)\n",
    "# thresh2 = cv2.adaptiveThreshold(gray_image, 255, cv2.ADAPTIVE_THRESH_MEAN_C, cv2.THRESH_BINARY, 33, 2)\n",
    "# thresh3 = cv2.adaptiveThreshold(gray_image, 255, cv2.ADAPTIVE_THRESH_MEAN_C, cv2.THRESH_BINARY, 33, 3)\n",
    "# thresh4 = cv2.adaptiveThreshold(gray_image, 255, cv2.ADAPTIVE_THRESH_MEAN_C, cv2.THRESH_BINARY, 33, 3)\n",
    "# thresh5 = cv2.adaptiveThreshold(gray_image, 255, cv2.ADAPTIVE_THRESH_MEAN_C, cv2.THRESH_BINARY, 33, 3)\n",
    "thresh6 = cv2.adaptiveThreshold(gray_image, 255, cv2.ADAPTIVE_THRESH_MEAN_C, cv2.THRESH_BINARY, 33, 18)\n",
    "# thresh7 = cv2.adaptiveThreshold(gray_image, 255, cv2.ADAPTIVE_THRESH_MEAN_C, cv2.THRESH_BINARY, 33, 4)\n",
    "# thresh8 = cv2.adaptiveThreshold(gray_image, 255, cv2.ADAPTIVE_THRESH_MEAN_C, cv2.THRESH_BINARY, 33, 6)\n",
    "\n",
    "# cv2.imwrite('output.jpeg',thresh6)\n",
    "\n",
    "# image= cv2.imread('output.jpeg')\n",
    "# # image = cv2.imread(args[\"image\"])\n",
    "# rgb = cv2.cvtColor(image, cv2.COLOR_BGR2RGB)\n",
    "results = pytesseract.image_to_data(rgb, output_type=Output.DICT)\n",
    "print(results)\n",
    "\n",
    "for i in range(0, len(results[\"text\"]),1):\n",
    "\t# extract the bounding box coordinates of the text region from\n",
    "\t# the current result\n",
    "\tx = results[\"left\"][i]\n",
    "\ty = results[\"top\"][i]\n",
    "\tw = results[\"width\"][i]\n",
    "\th = results[\"height\"][i]\n",
    "\t# extract the OCR text itself along with the confidence of the\n",
    "\t# text localization\n",
    "\ttext = results[\"text\"][i]\n",
    "\tconf = int(results[\"conf\"][i])\n",
    "# filter out weak confidence text localizations\n",
    "\tif conf > 10 and len(text)>2:\n",
    "\t\t# display the confidence and text to our terminal\n",
    "# \t\tprint(\"Confidence: {}\".format(conf))\n",
    "# \t\tprint(\"Text: {}\".format(text))\n",
    "\t\tif text in surname:\n",
    "\t\t\tprint(\"surname\",text)\n",
    "\t\t\tcontinue\n",
    "\t\tif text.lower() in first_name:\n",
    "\t\t\tprint(\"first_name\",text)\n",
    "\t\t# strip out non-ASCII text so we can draw the text on the image\n",
    "\t\t# using OpenCV, then draw a bounding box around the text along\n",
    "\t\t# with the text itself\n",
    "\t\ttext = \"\".join([c if ord(c) < 128 else \"\" for c in text]).strip()\n",
    "\t\tprint(text)\n",
    "# \t\tcv2.rectangle(image, (x, y), (x + w, y + h), (0, 255, 0), 2)\n",
    "# \t\tcv2.putText(image, text, (x, y - 10), cv2.FONT_HERSHEY_SIMPLEX,\n",
    "# \t\t\t1.2, (0, 0, 255), 3)\n",
    "# # show the output image\n",
    "\n",
    "# cv2.imwrite(\"out.jpeg\", image)\n",
    "# display(Image.open('out.jpeg'))\n",
    "# # create a sharpening kernel\n",
    "# sharpen_filter=np.array([[-1,-1,-1],\n",
    "#                  [-1,9,-1],\n",
    "#                 [-1,-1,-1]])\n",
    "# # # applying kernels to the input image to get the sharpened image\n",
    "\n",
    "# sharp_image=cv2.filter2D(original,-1,sharpen_filter)\n",
    "\n",
    "# cv2.imwrite('rect.jpeg',original)\n",
    "# gray_image= cv2.imread('rect.jpeg',0)\n",
    "# dicts=[]\n",
    "# for i in range(0,25):\n",
    "#     thresh8 = cv2.adaptiveThreshold(gray_image, 220, cv2.ADAPTIVE_THRESH_MEAN_C, cv2.THRESH_BINARY, 33, i)\n",
    "#     dicts.append({\"image\":f'./sample/{i}.jpeg',\"lable\":i})\n",
    "#     cv2.imwrite(f'./sample/{i}.jpeg',thresh8)\n",
    "# # cropped_image = sharp_image[80:100000, 150:550]\n",
    " \n",
    "# # Display cropped image\n",
    "# # cv2.imwrite(\"rect.jpeg\", cropped_image)\n",
    "# #     display(Image.open('rects.jpeg'))\n",
    "#     print(i,\"===============\\n\",pytesseract.image_to_string('rects.jpeg'))\n"
   ]
  },
  {
   "cell_type": "code",
   "execution_count": 2,
   "id": "0b8095ff-e854-4f9a-bb15-d7d4d5aa969c",
   "metadata": {},
   "outputs": [
    {
     "name": "stdout",
     "output_type": "stream",
     "text": [
      "{'Full Name': 'D MANIKANDAN', \"Father's Name\": 'DURAISAMY', 'Date of Birth': '16/07/1986', 'PAN Number': 'BNZPM2501F'}\n"
     ]
    }
   ],
   "source": [
    "import re\n",
    "import pytesseract\n",
    "from PIL import Image\n",
    "from datetime import datetime\n",
    "\n",
    "def extract_names(input):\n",
    "\n",
    "    full_name, fathers_name = '', ''\n",
    "    \n",
    "    if 'Name' in input:\n",
    "        name_regex = r'Name[\\s:]+([A-Za-z\\s]+)(?:\\n|$)'\n",
    "        fathers_name_regex = r\"Father's\\s*Name.*?\\n([^0-9\\n]+)\"\n",
    "        \n",
    "        name_match = re.search(name_regex, input, re.IGNORECASE)\n",
    "        fathers_name_match = re.search(fathers_name_regex, input, re.IGNORECASE)\n",
    "\n",
    "        full_name = name_match.group(1).strip() if name_match else ''\n",
    "        fathers_name = fathers_name_match.group(1).strip() if fathers_name_match else ''\n",
    "    else:\n",
    "        names = []\n",
    "        lines = input.split('\\n')\n",
    "\n",
    "        for line in lines:\n",
    "            if \"INCOME TAX DEPARTMENT\" not in line:\n",
    "                match = re.search(r'^[A-Z\\s]+$', line)\n",
    "                if match:\n",
    "                    name = match.group().strip()\n",
    "                    names.append(name)\n",
    "        \n",
    "        # print(names)\n",
    "        if(len(names) >= 1):\n",
    "            full_name = names[0]\n",
    "        if(len(names) >= 2):\n",
    "            fathers_name = names[1]\n",
    "        \n",
    "    return full_name, fathers_name\n",
    "\n",
    "def extract_pan(input):\n",
    "    \n",
    "    regex = r'[A-Z]{5}[0-9]{4}[A-Z]'\n",
    "    match = re.search(regex, input)\n",
    "    pan_number = match.group(0) if match else \"\"\n",
    "    \n",
    "    return pan_number\n",
    "\n",
    "def extract_dob(input):\n",
    "    \n",
    "    regex = r'\\b(\\d{2}/\\d{2}/\\d{4})\\b'\n",
    "    match = re.search(regex, input)\n",
    "    dob = match.group(0) if match else \"\"\n",
    "    \n",
    "    return dob\n",
    "\n",
    "def extract_pan_details(image_path):\n",
    "\n",
    "    image = Image.open(image_path)\n",
    "\n",
    "    extracted_text = pytesseract.image_to_string(image)\n",
    "    # print(extracted_text)\n",
    "\n",
    "    full_name, fathers_name = extract_names(extracted_text)\n",
    "    dob = extract_dob(extracted_text)\n",
    "    pan_number = extract_pan(extracted_text)\n",
    "\n",
    "    return {\n",
    "        'Full Name': full_name,\n",
    "        'Father\\'s Name': fathers_name,\n",
    "        'Date of Birth': dob,\n",
    "        'PAN Number': pan_number\n",
    "    }\n",
    "\n",
    "image_path = 'test_image2.jpg'\n",
    "pan_details = extract_pan_details(image_path)\n",
    "print(pan_details)\n"
   ]
  },
  {
   "cell_type": "code",
   "execution_count": null,
   "id": "ca7a6ab4-1185-4b29-abd8-580f8ee3e78c",
   "metadata": {},
   "outputs": [],
   "source": []
  }
 ],
 "metadata": {
  "kernelspec": {
   "display_name": "Python 3 (ipykernel)",
   "language": "python",
   "name": "python3"
  },
  "language_info": {
   "codemirror_mode": {
    "name": "ipython",
    "version": 3
   },
   "file_extension": ".py",
   "mimetype": "text/x-python",
   "name": "python",
   "nbconvert_exporter": "python",
   "pygments_lexer": "ipython3",
   "version": "3.11.1"
  }
 },
 "nbformat": 4,
 "nbformat_minor": 5
}
