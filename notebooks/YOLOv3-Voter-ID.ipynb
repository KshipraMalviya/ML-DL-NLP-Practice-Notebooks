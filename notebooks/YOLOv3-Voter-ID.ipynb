{
 "cells": [
  {
   "cell_type": "code",
   "execution_count": 98,
   "id": "0eb5c10e-a257-412c-b3ad-d3b1d3fb7036",
   "metadata": {},
   "outputs": [],
   "source": [
    "import re\n",
    "import cv2\n",
    "import pytesseract\n",
    "from PIL import Image\n",
    "import numpy as np\n",
    "\n",
    "\n",
    "def preprocess_for_bold_text(image):\n",
    "\n",
    "  gray = cv2.cvtColor(image, cv2.COLOR_BGR2GRAY)\n",
    "\n",
    "  kernel = cv2.getStructuringElement(cv2.MORPH_RECT, (1,1))\n",
    "  opening = cv2.morphologyEx(gray, cv2.MORPH_OPEN, kernel)\n",
    "  contrast = cv2.addWeighted(opening, 2, opening, -0.5, 0)\n",
    "\n",
    "  _, binary = cv2.threshold(contrast, 0, 255, cv2.THRESH_BINARY | cv2.THRESH_OTSU)\n",
    "  sharpened = cv2.filter2D(binary, -1, np.array([[0,-1,0], [-1,5,-1], [0,-1,0]]))\n",
    "\n",
    "  return sharpened\n",
    "\n",
    "\n",
    "def extract_voter_details_yolo(image_path):\n",
    "\n",
    "    net = cv2.dnn.readNetFromDarknet(\"yolov3_custom.cfg\", r\"Downloads\\yolov3_custom_6000.weights\")\n",
    "    classes = ['elector', 'relation', 'voterid']\n",
    "    \n",
    "    img = cv2.imread(image_path)\n",
    "    if img is None:\n",
    "        print(\"Error: Unable to read the input image.\")\n",
    "        exit()\n",
    "    \n",
    "    height, width, _ = img.shape\n",
    "    blob = cv2.dnn.blobFromImage(img, 1 / 255, (416, 416), (0, 0, 0), swapRB=True, crop=False)\n",
    "    \n",
    "    net.setInput(blob)\n",
    "    output_layers_name = net.getUnconnectedOutLayersNames()\n",
    "    layerOutputs = net.forward(output_layers_name)\n",
    "    \n",
    "    boxes = []\n",
    "    confidences = []\n",
    "    class_ids = []\n",
    "    detected_texts = {}\n",
    "    \n",
    "    for output in layerOutputs:\n",
    "        for detection in output:\n",
    "            scores = detection[5:]\n",
    "            class_id = np.argmax(scores)\n",
    "            confidence = scores[class_id]\n",
    "            if confidence > 0.5:\n",
    "                center_x = int(detection[0] * width)\n",
    "                center_y = int(detection[1] * height)\n",
    "                w = int(detection[2] * width)\n",
    "                h = int(detection[3] * height)\n",
    "    \n",
    "                x = int(center_x - w / 2)\n",
    "                y = int(center_y - h / 2)\n",
    "    \n",
    "                boxes.append([x, y, w, h])\n",
    "                confidences.append(float(confidence))\n",
    "                class_ids.append(class_id)\n",
    "    \n",
    "    indexes = cv2.dnn.NMSBoxes(boxes, confidences, 0.5, 0.4)\n",
    "    \n",
    "    for i in range(len(boxes)):\n",
    "        if i in indexes:\n",
    "            x, y, w, h = boxes[i]\n",
    "            \n",
    "            x = max(0, x)\n",
    "            y = max(0, y)\n",
    "            w = min(width - x, w)\n",
    "            h = min(height - y, h)\n",
    "            \n",
    "            label = str(classes[class_ids[i]])\n",
    "            crop_img = img[y:y + h, x:x + w] \n",
    "            if crop_img.size == 0:\n",
    "                continue \n",
    "            text = pytesseract.image_to_string(crop_img, config='--psm 6') \n",
    "            detected_texts[label] = text.strip()\n",
    "\n",
    "    return detected_texts\n",
    "\n",
    "def extract_voter_id(input):\n",
    "\n",
    "    regex = r\".{0,3}[0-9]{7}\"\n",
    "    match = re.search(regex, input)\n",
    "    voter_id = match.group(0) if match else \"\"\n",
    "\n",
    "    return voter_id\n",
    "\n",
    "\n",
    "def extract_names(input):\n",
    "\n",
    "    regex = r\"Name\\s*[:=+]?\\s*(.*)\"\n",
    "    matches = re.findall(regex, input, re.IGNORECASE)\n",
    "    names = [match.strip() for match in matches] if matches else []\n",
    "\n",
    "    return names\n",
    "\n",
    "\n",
    "def extract_lines_with_uppercase_words(input):\n",
    "\n",
    "    lines_with_uppercase_words = []\n",
    "    pattern = r'\\b[A-Z]+(?:\\s+[A-Z]+)*\\b'\n",
    "    for line in input.split('\\n'):\n",
    "        if re.search(pattern, line):\n",
    "            uppercase_words = re.findall(pattern, line)\n",
    "            for word in uppercase_words:\n",
    "              lines_with_uppercase_words.append(word)\n",
    "    return lines_with_uppercase_words\n",
    "\n",
    "\n",
    "def extract_gender(input):\n",
    "\n",
    "    if 'Female' in input or 'FEMALE' in input:\n",
    "      return 'Female'\n",
    "    elif 'Male' in input or 'MALE' in input:\n",
    "      return 'Male'\n",
    "    else:\n",
    "      return ''\n",
    "\n",
    "\n",
    "def extract_date(input):\n",
    "\n",
    "    regex = r\"\\b([0-9X]{2}[/\\-.][0-9X]{2}[/\\-.](?:\\d{4}|\\d{2}))\\b\"\n",
    "    match = re.search(regex, input)\n",
    "    dob = match.group(0) if match else \"\"\n",
    "\n",
    "    return dob\n",
    "\n",
    "\n",
    "def extract_address(input):\n",
    "    regex = r\"Address\\s*:?\\s*[A-Za-z0-9:,-.\\n\\s\\/]+[0-9]{6}\"\n",
    "    match = re.search(regex, input)\n",
    "    address = match.group(0) if match else \"\"\n",
    "\n",
    "    if not match:\n",
    "        regex = r\"[A-Za-z0-9:,-.\\n\\s\\/]+[0-9]{6}\"\n",
    "        match = re.search(regex, input)\n",
    "        address = match.group(0) if match else \"\"\n",
    "\n",
    "    return address\n",
    "\n",
    "\n",
    "def extract_voterid_details_front(image_path):\n",
    "\n",
    "    image = Image.open(image_path)\n",
    "    extracted_text = pytesseract.image_to_string(image)\n",
    "\n",
    "    voter_id = extract_voter_id(extracted_text)\n",
    "\n",
    "    names = extract_names(extracted_text)\n",
    "    electors_name = names[0] if len(names) > 0 else \"\"\n",
    "    fathers_name = names[1] if len(names) > 1 else \"\"\n",
    "\n",
    "    gender = extract_gender(extracted_text)\n",
    "\n",
    "    dob = extract_date(extracted_text)\n",
    "\n",
    "    image = cv2.imread(image_path)\n",
    "    preprocessed = preprocess_for_bold_text(image)\n",
    "    cv2.imwrite('preprocessed_image.jpg', preprocessed)\n",
    "\n",
    "    image = Image.open('preprocessed_image.jpg')\n",
    "    clean_text = pytesseract.image_to_string(image)\n",
    "\n",
    "    if electors_name == \"\":\n",
    "      names = extract_lines_with_uppercase_words(clean_text)\n",
    "      electors_name = names[-2] if len(names) > 1 else \"\"\n",
    "      fathers_name = names[-1] if len(names) > 0 else \"\"\n",
    "\n",
    "    if dob == \"\":\n",
    "      dob = extract_date(clean_text)\n",
    "\n",
    "    if voter_id == \"\":\n",
    "      voter_id = extract_voter_id(clean_text)\n",
    "\n",
    "    if gender == \"\":\n",
    "      gender = extract_gender(clean_text)\n",
    "\n",
    "    return {\n",
    "        \"Voter ID\": voter_id,\n",
    "        \"Elector's Name\": electors_name,\n",
    "        \"Father's Name\": fathers_name,\n",
    "        \"Gender\": gender,\n",
    "        \"Date of Birth\": dob\n",
    "    }\n",
    "\n",
    "\n",
    "def extract_voterid_details_back(image_path):\n",
    "\n",
    "    image = Image.open(image_path)\n",
    "    extracted_text = pytesseract.image_to_string(image)\n",
    "\n",
    "    address = extract_address(extracted_text)\n",
    "    doi = extract_date(extracted_text)\n",
    "\n",
    "    return {\n",
    "        \"Address\": address,\n",
    "        \"Date of Issue\": doi\n",
    "    }\n",
    "\n",
    "\n",
    "def voterid_front(front_path):\n",
    "\n",
    "    image = Image.open(front_path)\n",
    "    extracted_text = pytesseract.image_to_string(image)\n",
    "\n",
    "    if 'Date' in extracted_text or 'Age' in extracted_text or 'Sex' in extracted_text or 'Gender' in extracted_text:\n",
    "        return extract_voterid_details_front(front_path)\n",
    "    else:\n",
    "        return extract_voter_details_yolo(front_path)\n",
    "\n",
    "\n",
    "def voterid_back(back_path):\n",
    "\n",
    "    back_details = extract_voterid_details_back(back_path)\n",
    "    return back_details\n"
   ]
  },
  {
   "cell_type": "code",
   "execution_count": 99,
   "id": "cc961785-74f2-45c8-bfc8-1547daa31c7d",
   "metadata": {},
   "outputs": [
    {
     "data": {
      "text/plain": [
       "{'voterid': 'IXE2022886', 'elector': '_PINKEKUMARI', 'relation': 'RAGHAV RAM'}"
      ]
     },
     "execution_count": 99,
     "metadata": {},
     "output_type": "execute_result"
    }
   ],
   "source": [
    "voterid_front(\"voter1.jpg\")"
   ]
  },
  {
   "cell_type": "code",
   "execution_count": 100,
   "id": "5b51915f-49c0-496e-b24b-40e32ff42a43",
   "metadata": {},
   "outputs": [
    {
     "data": {
      "text/plain": [
       "{'voterid': 'NGQ1878689',\n",
       " 'elector': 'AAKANKSHA\\n‘KASHYAP.',\n",
       " 'relation': 'MOTHER KUMARI'}"
      ]
     },
     "execution_count": 100,
     "metadata": {},
     "output_type": "execute_result"
    }
   ],
   "source": [
    "voterid_front(\"voter2.jpg\")"
   ]
  },
  {
   "cell_type": "code",
   "execution_count": 101,
   "id": "a6fc6e8a-89ca-4826-b18a-37704c4a6838",
   "metadata": {},
   "outputs": [
    {
     "data": {
      "text/plain": [
       "{'voterid': 'GNY0145623',\n",
       " 'elector': 'RABIN SIWAKOTI',\n",
       " 'relation': 'GANGA RAM SIWAKOTI'}"
      ]
     },
     "execution_count": 101,
     "metadata": {},
     "output_type": "execute_result"
    }
   ],
   "source": [
    "voterid_front(\"voter3.jpg\")"
   ]
  },
  {
   "cell_type": "code",
   "execution_count": 102,
   "id": "dd6764b6-29f6-46c2-8741-fbd0bbe753c2",
   "metadata": {},
   "outputs": [
    {
     "data": {
      "text/plain": [
       "{'voterid': '1803970061',\n",
       " 'elector': 'RANGILA DEVI',\n",
       " 'relation': 'SUNIL KUMAR SINGH'}"
      ]
     },
     "execution_count": 102,
     "metadata": {},
     "output_type": "execute_result"
    }
   ],
   "source": [
    "voterid_front(\"voter4.jpg\")"
   ]
  },
  {
   "cell_type": "code",
   "execution_count": 103,
   "id": "1a42207a-e93f-444a-ba4f-6a73ad5060e2",
   "metadata": {},
   "outputs": [
    {
     "data": {
      "text/plain": [
       "{'voterid': 'SJE1998135', 'relation': 'NEERAJ KUMAR', 'elector': 'PINK?'}"
      ]
     },
     "execution_count": 103,
     "metadata": {},
     "output_type": "execute_result"
    }
   ],
   "source": [
    "voterid_front(\"voter5.jpg\")"
   ]
  },
  {
   "cell_type": "code",
   "execution_count": 104,
   "id": "e3f50c97-b3b6-41aa-8d93-19902a736c89",
   "metadata": {},
   "outputs": [
    {
     "data": {
      "text/plain": [
       "{'Voter ID': 'SE10723429',\n",
       " \"Elector's Name\": 'Mahesh Pratap Singh',\n",
       " \"Father's Name\": 'Rajendra Pratap Sinh',\n",
       " 'Gender': 'Male',\n",
       " 'Date of Birth': 'XX/XX/1972'}"
      ]
     },
     "execution_count": 104,
     "metadata": {},
     "output_type": "execute_result"
    }
   ],
   "source": [
    "voterid_front(\"voter_old.jpg\")"
   ]
  },
  {
   "cell_type": "code",
   "execution_count": 105,
   "id": "15ebfd0b-f344-4d48-a6e8-4de3a73e4e7c",
   "metadata": {},
   "outputs": [
    {
     "data": {
      "text/plain": [
       "{'Address': 'A/24,Road-1,Sanjay Gandhi\\n\\nNagar,Hanuman Nagar,Kankarbagh,\\n\\nTown/Vill - Patna,\\n\\nAnchal - Patna Sadar,\\n\\nDistt - Patna 2 800020',\n",
       " 'Date of Issue': '12/02/2005'}"
      ]
     },
     "execution_count": 105,
     "metadata": {},
     "output_type": "execute_result"
    }
   ],
   "source": [
    "voterid_back(\"voterback.jpeg\")"
   ]
  },
  {
   "cell_type": "code",
   "execution_count": 106,
   "id": "738a314d-cebe-468d-9492-078f4594c299",
   "metadata": {},
   "outputs": [
    {
     "data": {
      "text/plain": [
       "{'Address': 'Address : Village-Dhanaura, Tahshil-mullana, District-ambala, Pin\\n\\nCode-133004',\n",
       " 'Date of Issue': '17/04/2021'}"
      ]
     },
     "execution_count": 106,
     "metadata": {},
     "output_type": "execute_result"
    }
   ],
   "source": [
    "voterid_back(\"voterback3.jpg\")"
   ]
  },
  {
   "cell_type": "code",
   "execution_count": 107,
   "id": "49827052-3fe7-4851-8a3b-8c1e8af9ee81",
   "metadata": {},
   "outputs": [
    {
     "data": {
      "text/plain": [
       "{'Voter ID': 'EAX2124325',\n",
       " \"Elector's Name\": 'Avinash Kumar Tripath',\n",
       " \"Father's Name\": 'Rajesh Kuenar',\n",
       " 'Gender': '',\n",
       " 'Date of Birth': '22-08-1995'}"
      ]
     },
     "execution_count": 107,
     "metadata": {},
     "output_type": "execute_result"
    }
   ],
   "source": [
    "voterid_front(\"voter6.jpg\")"
   ]
  },
  {
   "cell_type": "code",
   "execution_count": null,
   "id": "e3b02904-a7a2-4b4b-af44-576bb7d537f0",
   "metadata": {},
   "outputs": [],
   "source": []
  }
 ],
 "metadata": {
  "kernelspec": {
   "display_name": "Python 3 (ipykernel)",
   "language": "python",
   "name": "python3"
  },
  "language_info": {
   "codemirror_mode": {
    "name": "ipython",
    "version": 3
   },
   "file_extension": ".py",
   "mimetype": "text/x-python",
   "name": "python",
   "nbconvert_exporter": "python",
   "pygments_lexer": "ipython3",
   "version": "3.11.1"
  }
 },
 "nbformat": 4,
 "nbformat_minor": 5
}
